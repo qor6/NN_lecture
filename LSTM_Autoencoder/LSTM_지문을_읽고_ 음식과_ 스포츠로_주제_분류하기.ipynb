{
  "cells": [
    {
      "cell_type": "markdown",
      "metadata": {
        "id": "JbrVqY6tNR7d"
      },
      "source": [
        "<a href=\"https://colab.research.google.com/github/wikibook/machine-learning/blob/2.0/jupyter_notebook/6.2_LSTM_지문을_읽고_주제_분류하기.ipynb\" target=\"_parent\"><img src=\"https://colab.research.google.com/assets/colab-badge.svg\" alt=\"Open In Colab\"/></a>"
      ]
    },
    {
      "cell_type": "markdown",
      "metadata": {
        "id": "7mEOuoKoNR7f"
      },
      "source": [
        "# LSTM으로 지문을 읽어서 주제를 분류하기"
      ]
    },
    {
      "cell_type": "code",
      "execution_count": 1,
      "metadata": {
        "id": "5T5LkCTZNR7f",
        "outputId": "9e3b1ee0-669b-44ae-a512-20a85e9dc9c8",
        "colab": {
          "base_uri": "https://localhost:8080/"
        }
      },
      "outputs": [
        {
          "output_type": "stream",
          "name": "stdout",
          "text": [
            "Colab only includes TensorFlow 2.x; %tensorflow_version has no effect.\n"
          ]
        }
      ],
      "source": [
        "from __future__ import absolute_import, division, print_function, unicode_literals\n",
        "\n",
        "try:\n",
        "  %tensorflow_version 2.x\n",
        "except Exception:\n",
        "  pass"
      ]
    },
    {
      "cell_type": "code",
      "execution_count": 2,
      "metadata": {
        "id": "2ToEMUeqNR7g"
      },
      "outputs": [],
      "source": [
        "from IPython.display import Image\n",
        "\n",
        "import tensorflow as tf\n",
        "from tensorflow.keras.layers import Input, Dense, LSTM, Embedding\n",
        "from tensorflow.keras.models import Model\n",
        "from tensorflow.keras.models import Sequential\n",
        "from tensorflow.keras.preprocessing.text import one_hot\n",
        "from tensorflow.keras.preprocessing.sequence import pad_sequences\n",
        "import numpy as np\n",
        "import pandas as pd\n",
        "\n",
        "# 항상 같은 결과를 갖기 위해 랜덤 시드 설정\n",
        "tf.random.set_seed(1)\n",
        "np.random.seed(1)"
      ]
    },
    {
      "cell_type": "markdown",
      "metadata": {
        "id": "XJ5hojdoNR7g"
      },
      "source": [
        "LSTM을 사용하여 각 지문의 주제를 분류하는 예제를 다뤄보겠습니다.  \n",
        "아래 실습을 위해 입력값을 팬더스 데이터프레임에 저장합니다."
      ]
    },
    {
      "cell_type": "code",
      "execution_count": 3,
      "metadata": {
        "id": "E7rA3FS5NR7h"
      },
      "outputs": [],
      "source": [
        "paragraph_dict_list = [\n",
        "         {'paragraph': 'dishplace is located in sunnyvale downtown there is parking around the area but it can be difficult to find during peak business hours my sisters and i came to this place for dinner on a weekday they were really busy so i highly recommended making reservations unless you have the patience to wait', 'category': 'food'},\n",
        "         {'paragraph': 'service can be slower during busy hours but our waiter was courteous and help gave some great entree recommendations', 'category': 'food'},\n",
        "         {'paragraph': 'portions are huge both french toast and their various omelettes are really good their french toast is probably 1.5x more than other brunch places great place to visit if you are hungry and dont want to wait 1 hour for a table', 'category': 'food'},\n",
        "         {'paragraph': 'we started with apps going the chicken and waffle slides and chicken nachos the sliders were amazing and the nachos were good too maybe by themselves the nachos would have scored better but after those sliders they were up against some tough competition', 'category': 'food'},\n",
        "         {'paragraph': 'the biscuits and gravy was too salty two people in my group had the gravy and all thought it was too salty my hubby ordered a side of double egg and it was served on two small plates who serves eggs to one person on separate plates we commented on that when it was delivered and even the server laughed and said she doesnt know why the kitchen does that presentation of food is important and they really missed on this one', 'category': 'food'},\n",
        "         {'paragraph': 'the garlic fries were a great starter (and a happy hour special) the pancakes looked and tasted great and were a fairly generous portion', 'category': 'food'},\n",
        "         {'paragraph': 'our meal was excellent i had the pasta ai formaggi which was so rich i didnt dare eat it all although i certainly wanted to excellent flavors with a great texture contrast between the soft pasta and the crisp bread crumbs too much sauce for me but a wonderful dish', 'category': 'food'},\n",
        "         {'paragraph': 'what i enjoy most about palo alto is so many restaurants have dog-friendly seating outside i had bookmarked italico from when they first opened about a 1.5 years ago and was jonesing for some pasta so time to finally knock that bookmark off', 'category': 'food'},\n",
        "         {'paragraph': 'the drinks came out fairly quickly a good two to three minutes after the orders were taken i expected my iced tea to taste a bit more sweet but this was straight up green tea with ice in it not to complain of course but i was pleasantly surprised', 'category': 'food'},\n",
        "         {'paragraph': 'despite the not so good burger the service was so slow the restaurant wasnt even half full and they took very long from the moment we got seated to the time we left it was almost 2 hours we thought that it would be quick since we ordered as soon as we sat down my coworkers did seem to enjoy their beef burgers for those who eat beef however i will not be returning it is too expensive and extremely slow service', 'category': 'food'},\n",
        "\n",
        "         {'paragraph': 'the four reigning major champions simona halep caroline wozniacki angelique kerber and defending us open champion sloane stephens could make a case for being the quartet most likely to succeed especially as all but stephens has also enjoyed the no1 ranking within the last 14 months as they prepare for their gruelling new york campaigns they currently hold the top four places in the ranks', 'category': 'sports'},\n",
        "         {'paragraph': 'the briton was seeded nn7 here last year before a slump in form and confidence took her down to no46 after five first-round losses but there have been signs of a turnaround including a victory over a sub-par serena williams in san jose plus wins against jelena ostapenko and victoria azarenka in montreal. konta pulled out of new haven this week with illness but will hope for good things where she first scored wins in a major before her big breakthroughs to the semis in australia and wimbledon', 'category': 'sports'},\n",
        "         {'paragraph': 'stephens surged her way back from injury in stunning style to win her first major here last year—and ranked just no83 she has since proved what a big time player she is winning the miami title via four fellow major champions then reaching the final at the french open back on north american hard courts she ran to the final in montreal only just edged out by halep she has also avoided many of the big names in her quarter—except for wild card azarenka as a possible in the third round', 'category': 'sports'},\n",
        "         {'paragraph': 'when it came to england chances in the world cup it would be fair to say that most fans had never been more pessimistic than they were this year after enduring years of truly dismal performances at major tournaments – culminating in the 2014 event where they failed to win any of their three group games and finished in bottom spot those results led to the resignation of manager roy hodgson', 'category': 'sports'},\n",
        "         {'paragraph': 'the team that eliminated russia – croatia – also improved enormously during the tournament before it began their odds were 33/1 but they played with real flair and star players like luka modric ivan rakitic and ivan perisic showed their quality on the world stage having displayed their potential by winning all three of their group stage games croatia went on to face difficult tests like the semi-final against england', 'category': 'sports'},\n",
        "         {'paragraph': 'the perseyside outfit finished in fourth place in the premier league table and without a trophy last term after having reached the champions league final before losing to real madrid', 'category': 'sports'},\n",
        "         {'paragraph': 'liverpool fc will return to premier league action on saturday lunchtime when they travel to leicester city in the top flight as they look to make it four wins in a row in the league', 'category': 'sports'},\n",
        "         {'paragraph': 'alisson signed for liverpool fc from as roma this summer and the brazilian goalkeeper has helped the reds to keep three clean sheets in their first three premier league games', 'category': 'sports'},\n",
        "         {'paragraph': 'but the rankings during that run-in to new york hid some very different undercurrents for murray had struggled with a hip injury since the clay swing and had not played a match since losing his quarter-final at wimbledon and he would pull out of the us open just two days before the tournament began—too late however to promote nederer to the no2 seeding', 'category': 'sports'},\n",
        "         {'paragraph': 'then came the oh-so-familiar djokovic-nadal no-quarter-given battle for dominance in the third set there were exhilarating rallies with both chasing to the net both retrieving what looked like winning shots nadal more than once pulled off a reverse smash and had his chance to seal the tie-break but it was djokovic serving at 10-9 who dragged one decisive error from nadal for a two-sets lead', 'category': 'sports'}\n",
        "]\n",
        "df = pd.DataFrame(paragraph_dict_list)\n",
        "df = df[['paragraph', 'category']]"
      ]
    },
    {
      "cell_type": "markdown",
      "metadata": {
        "id": "raZpq7xgNR7h"
      },
      "source": [
        "주제가 **음식**인 지문을 몇개 출력해보도록 하겠습니다."
      ]
    },
    {
      "cell_type": "code",
      "execution_count": 4,
      "metadata": {
        "id": "KTdO0AEzNR7h",
        "outputId": "e1d850d4-6e2c-4b69-ad15-95730eed13d3",
        "colab": {
          "base_uri": "https://localhost:8080/",
          "height": 206
        }
      },
      "outputs": [
        {
          "output_type": "execute_result",
          "data": {
            "text/plain": [
              "                                           paragraph category\n",
              "0  dishplace is located in sunnyvale downtown the...     food\n",
              "1  service can be slower during busy hours but ou...     food\n",
              "2  portions are huge both french toast and their ...     food\n",
              "3  we started with apps going the chicken and waf...     food\n",
              "4  the biscuits and gravy was too salty two peopl...     food"
            ],
            "text/html": [
              "\n",
              "  <div id=\"df-0497b3b6-67e3-4589-ad70-0a5abce43e5b\" class=\"colab-df-container\">\n",
              "    <div>\n",
              "<style scoped>\n",
              "    .dataframe tbody tr th:only-of-type {\n",
              "        vertical-align: middle;\n",
              "    }\n",
              "\n",
              "    .dataframe tbody tr th {\n",
              "        vertical-align: top;\n",
              "    }\n",
              "\n",
              "    .dataframe thead th {\n",
              "        text-align: right;\n",
              "    }\n",
              "</style>\n",
              "<table border=\"1\" class=\"dataframe\">\n",
              "  <thead>\n",
              "    <tr style=\"text-align: right;\">\n",
              "      <th></th>\n",
              "      <th>paragraph</th>\n",
              "      <th>category</th>\n",
              "    </tr>\n",
              "  </thead>\n",
              "  <tbody>\n",
              "    <tr>\n",
              "      <th>0</th>\n",
              "      <td>dishplace is located in sunnyvale downtown the...</td>\n",
              "      <td>food</td>\n",
              "    </tr>\n",
              "    <tr>\n",
              "      <th>1</th>\n",
              "      <td>service can be slower during busy hours but ou...</td>\n",
              "      <td>food</td>\n",
              "    </tr>\n",
              "    <tr>\n",
              "      <th>2</th>\n",
              "      <td>portions are huge both french toast and their ...</td>\n",
              "      <td>food</td>\n",
              "    </tr>\n",
              "    <tr>\n",
              "      <th>3</th>\n",
              "      <td>we started with apps going the chicken and waf...</td>\n",
              "      <td>food</td>\n",
              "    </tr>\n",
              "    <tr>\n",
              "      <th>4</th>\n",
              "      <td>the biscuits and gravy was too salty two peopl...</td>\n",
              "      <td>food</td>\n",
              "    </tr>\n",
              "  </tbody>\n",
              "</table>\n",
              "</div>\n",
              "    <div class=\"colab-df-buttons\">\n",
              "\n",
              "  <div class=\"colab-df-container\">\n",
              "    <button class=\"colab-df-convert\" onclick=\"convertToInteractive('df-0497b3b6-67e3-4589-ad70-0a5abce43e5b')\"\n",
              "            title=\"Convert this dataframe to an interactive table.\"\n",
              "            style=\"display:none;\">\n",
              "\n",
              "  <svg xmlns=\"http://www.w3.org/2000/svg\" height=\"24px\" viewBox=\"0 -960 960 960\">\n",
              "    <path d=\"M120-120v-720h720v720H120Zm60-500h600v-160H180v160Zm220 220h160v-160H400v160Zm0 220h160v-160H400v160ZM180-400h160v-160H180v160Zm440 0h160v-160H620v160ZM180-180h160v-160H180v160Zm440 0h160v-160H620v160Z\"/>\n",
              "  </svg>\n",
              "    </button>\n",
              "\n",
              "  <style>\n",
              "    .colab-df-container {\n",
              "      display:flex;\n",
              "      gap: 12px;\n",
              "    }\n",
              "\n",
              "    .colab-df-convert {\n",
              "      background-color: #E8F0FE;\n",
              "      border: none;\n",
              "      border-radius: 50%;\n",
              "      cursor: pointer;\n",
              "      display: none;\n",
              "      fill: #1967D2;\n",
              "      height: 32px;\n",
              "      padding: 0 0 0 0;\n",
              "      width: 32px;\n",
              "    }\n",
              "\n",
              "    .colab-df-convert:hover {\n",
              "      background-color: #E2EBFA;\n",
              "      box-shadow: 0px 1px 2px rgba(60, 64, 67, 0.3), 0px 1px 3px 1px rgba(60, 64, 67, 0.15);\n",
              "      fill: #174EA6;\n",
              "    }\n",
              "\n",
              "    .colab-df-buttons div {\n",
              "      margin-bottom: 4px;\n",
              "    }\n",
              "\n",
              "    [theme=dark] .colab-df-convert {\n",
              "      background-color: #3B4455;\n",
              "      fill: #D2E3FC;\n",
              "    }\n",
              "\n",
              "    [theme=dark] .colab-df-convert:hover {\n",
              "      background-color: #434B5C;\n",
              "      box-shadow: 0px 1px 3px 1px rgba(0, 0, 0, 0.15);\n",
              "      filter: drop-shadow(0px 1px 2px rgba(0, 0, 0, 0.3));\n",
              "      fill: #FFFFFF;\n",
              "    }\n",
              "  </style>\n",
              "\n",
              "    <script>\n",
              "      const buttonEl =\n",
              "        document.querySelector('#df-0497b3b6-67e3-4589-ad70-0a5abce43e5b button.colab-df-convert');\n",
              "      buttonEl.style.display =\n",
              "        google.colab.kernel.accessAllowed ? 'block' : 'none';\n",
              "\n",
              "      async function convertToInteractive(key) {\n",
              "        const element = document.querySelector('#df-0497b3b6-67e3-4589-ad70-0a5abce43e5b');\n",
              "        const dataTable =\n",
              "          await google.colab.kernel.invokeFunction('convertToInteractive',\n",
              "                                                    [key], {});\n",
              "        if (!dataTable) return;\n",
              "\n",
              "        const docLinkHtml = 'Like what you see? Visit the ' +\n",
              "          '<a target=\"_blank\" href=https://colab.research.google.com/notebooks/data_table.ipynb>data table notebook</a>'\n",
              "          + ' to learn more about interactive tables.';\n",
              "        element.innerHTML = '';\n",
              "        dataTable['output_type'] = 'display_data';\n",
              "        await google.colab.output.renderOutput(dataTable, element);\n",
              "        const docLink = document.createElement('div');\n",
              "        docLink.innerHTML = docLinkHtml;\n",
              "        element.appendChild(docLink);\n",
              "      }\n",
              "    </script>\n",
              "  </div>\n",
              "\n",
              "\n",
              "<div id=\"df-4601ee36-e1b2-4548-8937-d4dd00c3fd85\">\n",
              "  <button class=\"colab-df-quickchart\" onclick=\"quickchart('df-4601ee36-e1b2-4548-8937-d4dd00c3fd85')\"\n",
              "            title=\"Suggest charts\"\n",
              "            style=\"display:none;\">\n",
              "\n",
              "<svg xmlns=\"http://www.w3.org/2000/svg\" height=\"24px\"viewBox=\"0 0 24 24\"\n",
              "     width=\"24px\">\n",
              "    <g>\n",
              "        <path d=\"M19 3H5c-1.1 0-2 .9-2 2v14c0 1.1.9 2 2 2h14c1.1 0 2-.9 2-2V5c0-1.1-.9-2-2-2zM9 17H7v-7h2v7zm4 0h-2V7h2v10zm4 0h-2v-4h2v4z\"/>\n",
              "    </g>\n",
              "</svg>\n",
              "  </button>\n",
              "\n",
              "<style>\n",
              "  .colab-df-quickchart {\n",
              "      --bg-color: #E8F0FE;\n",
              "      --fill-color: #1967D2;\n",
              "      --hover-bg-color: #E2EBFA;\n",
              "      --hover-fill-color: #174EA6;\n",
              "      --disabled-fill-color: #AAA;\n",
              "      --disabled-bg-color: #DDD;\n",
              "  }\n",
              "\n",
              "  [theme=dark] .colab-df-quickchart {\n",
              "      --bg-color: #3B4455;\n",
              "      --fill-color: #D2E3FC;\n",
              "      --hover-bg-color: #434B5C;\n",
              "      --hover-fill-color: #FFFFFF;\n",
              "      --disabled-bg-color: #3B4455;\n",
              "      --disabled-fill-color: #666;\n",
              "  }\n",
              "\n",
              "  .colab-df-quickchart {\n",
              "    background-color: var(--bg-color);\n",
              "    border: none;\n",
              "    border-radius: 50%;\n",
              "    cursor: pointer;\n",
              "    display: none;\n",
              "    fill: var(--fill-color);\n",
              "    height: 32px;\n",
              "    padding: 0;\n",
              "    width: 32px;\n",
              "  }\n",
              "\n",
              "  .colab-df-quickchart:hover {\n",
              "    background-color: var(--hover-bg-color);\n",
              "    box-shadow: 0 1px 2px rgba(60, 64, 67, 0.3), 0 1px 3px 1px rgba(60, 64, 67, 0.15);\n",
              "    fill: var(--button-hover-fill-color);\n",
              "  }\n",
              "\n",
              "  .colab-df-quickchart-complete:disabled,\n",
              "  .colab-df-quickchart-complete:disabled:hover {\n",
              "    background-color: var(--disabled-bg-color);\n",
              "    fill: var(--disabled-fill-color);\n",
              "    box-shadow: none;\n",
              "  }\n",
              "\n",
              "  .colab-df-spinner {\n",
              "    border: 2px solid var(--fill-color);\n",
              "    border-color: transparent;\n",
              "    border-bottom-color: var(--fill-color);\n",
              "    animation:\n",
              "      spin 1s steps(1) infinite;\n",
              "  }\n",
              "\n",
              "  @keyframes spin {\n",
              "    0% {\n",
              "      border-color: transparent;\n",
              "      border-bottom-color: var(--fill-color);\n",
              "      border-left-color: var(--fill-color);\n",
              "    }\n",
              "    20% {\n",
              "      border-color: transparent;\n",
              "      border-left-color: var(--fill-color);\n",
              "      border-top-color: var(--fill-color);\n",
              "    }\n",
              "    30% {\n",
              "      border-color: transparent;\n",
              "      border-left-color: var(--fill-color);\n",
              "      border-top-color: var(--fill-color);\n",
              "      border-right-color: var(--fill-color);\n",
              "    }\n",
              "    40% {\n",
              "      border-color: transparent;\n",
              "      border-right-color: var(--fill-color);\n",
              "      border-top-color: var(--fill-color);\n",
              "    }\n",
              "    60% {\n",
              "      border-color: transparent;\n",
              "      border-right-color: var(--fill-color);\n",
              "    }\n",
              "    80% {\n",
              "      border-color: transparent;\n",
              "      border-right-color: var(--fill-color);\n",
              "      border-bottom-color: var(--fill-color);\n",
              "    }\n",
              "    90% {\n",
              "      border-color: transparent;\n",
              "      border-bottom-color: var(--fill-color);\n",
              "    }\n",
              "  }\n",
              "</style>\n",
              "\n",
              "  <script>\n",
              "    async function quickchart(key) {\n",
              "      const quickchartButtonEl =\n",
              "        document.querySelector('#' + key + ' button');\n",
              "      quickchartButtonEl.disabled = true;  // To prevent multiple clicks.\n",
              "      quickchartButtonEl.classList.add('colab-df-spinner');\n",
              "      try {\n",
              "        const charts = await google.colab.kernel.invokeFunction(\n",
              "            'suggestCharts', [key], {});\n",
              "      } catch (error) {\n",
              "        console.error('Error during call to suggestCharts:', error);\n",
              "      }\n",
              "      quickchartButtonEl.classList.remove('colab-df-spinner');\n",
              "      quickchartButtonEl.classList.add('colab-df-quickchart-complete');\n",
              "    }\n",
              "    (() => {\n",
              "      let quickchartButtonEl =\n",
              "        document.querySelector('#df-4601ee36-e1b2-4548-8937-d4dd00c3fd85 button');\n",
              "      quickchartButtonEl.style.display =\n",
              "        google.colab.kernel.accessAllowed ? 'block' : 'none';\n",
              "    })();\n",
              "  </script>\n",
              "</div>\n",
              "    </div>\n",
              "  </div>\n"
            ]
          },
          "metadata": {},
          "execution_count": 4
        }
      ],
      "source": [
        "df.head()"
      ]
    },
    {
      "cell_type": "markdown",
      "metadata": {
        "id": "f8pRYHtnNR7i"
      },
      "source": [
        "주제가 **스포츠**인 지문을 몇개 출력해보도록 하겠습니다."
      ]
    },
    {
      "cell_type": "code",
      "execution_count": 5,
      "metadata": {
        "id": "GfJrnFBQNR7i",
        "outputId": "83664080-ffdb-40c8-b896-4fe78080a20c",
        "colab": {
          "base_uri": "https://localhost:8080/",
          "height": 206
        }
      },
      "outputs": [
        {
          "output_type": "execute_result",
          "data": {
            "text/plain": [
              "                                            paragraph category\n",
              "15  the perseyside outfit finished in fourth place...   sports\n",
              "16  liverpool fc will return to premier league act...   sports\n",
              "17  alisson signed for liverpool fc from as roma t...   sports\n",
              "18  but the rankings during that run-in to new yor...   sports\n",
              "19  then came the oh-so-familiar djokovic-nadal no...   sports"
            ],
            "text/html": [
              "\n",
              "  <div id=\"df-a1938760-9ab0-4809-b379-be8fbe79055c\" class=\"colab-df-container\">\n",
              "    <div>\n",
              "<style scoped>\n",
              "    .dataframe tbody tr th:only-of-type {\n",
              "        vertical-align: middle;\n",
              "    }\n",
              "\n",
              "    .dataframe tbody tr th {\n",
              "        vertical-align: top;\n",
              "    }\n",
              "\n",
              "    .dataframe thead th {\n",
              "        text-align: right;\n",
              "    }\n",
              "</style>\n",
              "<table border=\"1\" class=\"dataframe\">\n",
              "  <thead>\n",
              "    <tr style=\"text-align: right;\">\n",
              "      <th></th>\n",
              "      <th>paragraph</th>\n",
              "      <th>category</th>\n",
              "    </tr>\n",
              "  </thead>\n",
              "  <tbody>\n",
              "    <tr>\n",
              "      <th>15</th>\n",
              "      <td>the perseyside outfit finished in fourth place...</td>\n",
              "      <td>sports</td>\n",
              "    </tr>\n",
              "    <tr>\n",
              "      <th>16</th>\n",
              "      <td>liverpool fc will return to premier league act...</td>\n",
              "      <td>sports</td>\n",
              "    </tr>\n",
              "    <tr>\n",
              "      <th>17</th>\n",
              "      <td>alisson signed for liverpool fc from as roma t...</td>\n",
              "      <td>sports</td>\n",
              "    </tr>\n",
              "    <tr>\n",
              "      <th>18</th>\n",
              "      <td>but the rankings during that run-in to new yor...</td>\n",
              "      <td>sports</td>\n",
              "    </tr>\n",
              "    <tr>\n",
              "      <th>19</th>\n",
              "      <td>then came the oh-so-familiar djokovic-nadal no...</td>\n",
              "      <td>sports</td>\n",
              "    </tr>\n",
              "  </tbody>\n",
              "</table>\n",
              "</div>\n",
              "    <div class=\"colab-df-buttons\">\n",
              "\n",
              "  <div class=\"colab-df-container\">\n",
              "    <button class=\"colab-df-convert\" onclick=\"convertToInteractive('df-a1938760-9ab0-4809-b379-be8fbe79055c')\"\n",
              "            title=\"Convert this dataframe to an interactive table.\"\n",
              "            style=\"display:none;\">\n",
              "\n",
              "  <svg xmlns=\"http://www.w3.org/2000/svg\" height=\"24px\" viewBox=\"0 -960 960 960\">\n",
              "    <path d=\"M120-120v-720h720v720H120Zm60-500h600v-160H180v160Zm220 220h160v-160H400v160Zm0 220h160v-160H400v160ZM180-400h160v-160H180v160Zm440 0h160v-160H620v160ZM180-180h160v-160H180v160Zm440 0h160v-160H620v160Z\"/>\n",
              "  </svg>\n",
              "    </button>\n",
              "\n",
              "  <style>\n",
              "    .colab-df-container {\n",
              "      display:flex;\n",
              "      gap: 12px;\n",
              "    }\n",
              "\n",
              "    .colab-df-convert {\n",
              "      background-color: #E8F0FE;\n",
              "      border: none;\n",
              "      border-radius: 50%;\n",
              "      cursor: pointer;\n",
              "      display: none;\n",
              "      fill: #1967D2;\n",
              "      height: 32px;\n",
              "      padding: 0 0 0 0;\n",
              "      width: 32px;\n",
              "    }\n",
              "\n",
              "    .colab-df-convert:hover {\n",
              "      background-color: #E2EBFA;\n",
              "      box-shadow: 0px 1px 2px rgba(60, 64, 67, 0.3), 0px 1px 3px 1px rgba(60, 64, 67, 0.15);\n",
              "      fill: #174EA6;\n",
              "    }\n",
              "\n",
              "    .colab-df-buttons div {\n",
              "      margin-bottom: 4px;\n",
              "    }\n",
              "\n",
              "    [theme=dark] .colab-df-convert {\n",
              "      background-color: #3B4455;\n",
              "      fill: #D2E3FC;\n",
              "    }\n",
              "\n",
              "    [theme=dark] .colab-df-convert:hover {\n",
              "      background-color: #434B5C;\n",
              "      box-shadow: 0px 1px 3px 1px rgba(0, 0, 0, 0.15);\n",
              "      filter: drop-shadow(0px 1px 2px rgba(0, 0, 0, 0.3));\n",
              "      fill: #FFFFFF;\n",
              "    }\n",
              "  </style>\n",
              "\n",
              "    <script>\n",
              "      const buttonEl =\n",
              "        document.querySelector('#df-a1938760-9ab0-4809-b379-be8fbe79055c button.colab-df-convert');\n",
              "      buttonEl.style.display =\n",
              "        google.colab.kernel.accessAllowed ? 'block' : 'none';\n",
              "\n",
              "      async function convertToInteractive(key) {\n",
              "        const element = document.querySelector('#df-a1938760-9ab0-4809-b379-be8fbe79055c');\n",
              "        const dataTable =\n",
              "          await google.colab.kernel.invokeFunction('convertToInteractive',\n",
              "                                                    [key], {});\n",
              "        if (!dataTable) return;\n",
              "\n",
              "        const docLinkHtml = 'Like what you see? Visit the ' +\n",
              "          '<a target=\"_blank\" href=https://colab.research.google.com/notebooks/data_table.ipynb>data table notebook</a>'\n",
              "          + ' to learn more about interactive tables.';\n",
              "        element.innerHTML = '';\n",
              "        dataTable['output_type'] = 'display_data';\n",
              "        await google.colab.output.renderOutput(dataTable, element);\n",
              "        const docLink = document.createElement('div');\n",
              "        docLink.innerHTML = docLinkHtml;\n",
              "        element.appendChild(docLink);\n",
              "      }\n",
              "    </script>\n",
              "  </div>\n",
              "\n",
              "\n",
              "<div id=\"df-2f8d5fdc-5023-4b38-9790-20e8c52d8da9\">\n",
              "  <button class=\"colab-df-quickchart\" onclick=\"quickchart('df-2f8d5fdc-5023-4b38-9790-20e8c52d8da9')\"\n",
              "            title=\"Suggest charts\"\n",
              "            style=\"display:none;\">\n",
              "\n",
              "<svg xmlns=\"http://www.w3.org/2000/svg\" height=\"24px\"viewBox=\"0 0 24 24\"\n",
              "     width=\"24px\">\n",
              "    <g>\n",
              "        <path d=\"M19 3H5c-1.1 0-2 .9-2 2v14c0 1.1.9 2 2 2h14c1.1 0 2-.9 2-2V5c0-1.1-.9-2-2-2zM9 17H7v-7h2v7zm4 0h-2V7h2v10zm4 0h-2v-4h2v4z\"/>\n",
              "    </g>\n",
              "</svg>\n",
              "  </button>\n",
              "\n",
              "<style>\n",
              "  .colab-df-quickchart {\n",
              "      --bg-color: #E8F0FE;\n",
              "      --fill-color: #1967D2;\n",
              "      --hover-bg-color: #E2EBFA;\n",
              "      --hover-fill-color: #174EA6;\n",
              "      --disabled-fill-color: #AAA;\n",
              "      --disabled-bg-color: #DDD;\n",
              "  }\n",
              "\n",
              "  [theme=dark] .colab-df-quickchart {\n",
              "      --bg-color: #3B4455;\n",
              "      --fill-color: #D2E3FC;\n",
              "      --hover-bg-color: #434B5C;\n",
              "      --hover-fill-color: #FFFFFF;\n",
              "      --disabled-bg-color: #3B4455;\n",
              "      --disabled-fill-color: #666;\n",
              "  }\n",
              "\n",
              "  .colab-df-quickchart {\n",
              "    background-color: var(--bg-color);\n",
              "    border: none;\n",
              "    border-radius: 50%;\n",
              "    cursor: pointer;\n",
              "    display: none;\n",
              "    fill: var(--fill-color);\n",
              "    height: 32px;\n",
              "    padding: 0;\n",
              "    width: 32px;\n",
              "  }\n",
              "\n",
              "  .colab-df-quickchart:hover {\n",
              "    background-color: var(--hover-bg-color);\n",
              "    box-shadow: 0 1px 2px rgba(60, 64, 67, 0.3), 0 1px 3px 1px rgba(60, 64, 67, 0.15);\n",
              "    fill: var(--button-hover-fill-color);\n",
              "  }\n",
              "\n",
              "  .colab-df-quickchart-complete:disabled,\n",
              "  .colab-df-quickchart-complete:disabled:hover {\n",
              "    background-color: var(--disabled-bg-color);\n",
              "    fill: var(--disabled-fill-color);\n",
              "    box-shadow: none;\n",
              "  }\n",
              "\n",
              "  .colab-df-spinner {\n",
              "    border: 2px solid var(--fill-color);\n",
              "    border-color: transparent;\n",
              "    border-bottom-color: var(--fill-color);\n",
              "    animation:\n",
              "      spin 1s steps(1) infinite;\n",
              "  }\n",
              "\n",
              "  @keyframes spin {\n",
              "    0% {\n",
              "      border-color: transparent;\n",
              "      border-bottom-color: var(--fill-color);\n",
              "      border-left-color: var(--fill-color);\n",
              "    }\n",
              "    20% {\n",
              "      border-color: transparent;\n",
              "      border-left-color: var(--fill-color);\n",
              "      border-top-color: var(--fill-color);\n",
              "    }\n",
              "    30% {\n",
              "      border-color: transparent;\n",
              "      border-left-color: var(--fill-color);\n",
              "      border-top-color: var(--fill-color);\n",
              "      border-right-color: var(--fill-color);\n",
              "    }\n",
              "    40% {\n",
              "      border-color: transparent;\n",
              "      border-right-color: var(--fill-color);\n",
              "      border-top-color: var(--fill-color);\n",
              "    }\n",
              "    60% {\n",
              "      border-color: transparent;\n",
              "      border-right-color: var(--fill-color);\n",
              "    }\n",
              "    80% {\n",
              "      border-color: transparent;\n",
              "      border-right-color: var(--fill-color);\n",
              "      border-bottom-color: var(--fill-color);\n",
              "    }\n",
              "    90% {\n",
              "      border-color: transparent;\n",
              "      border-bottom-color: var(--fill-color);\n",
              "    }\n",
              "  }\n",
              "</style>\n",
              "\n",
              "  <script>\n",
              "    async function quickchart(key) {\n",
              "      const quickchartButtonEl =\n",
              "        document.querySelector('#' + key + ' button');\n",
              "      quickchartButtonEl.disabled = true;  // To prevent multiple clicks.\n",
              "      quickchartButtonEl.classList.add('colab-df-spinner');\n",
              "      try {\n",
              "        const charts = await google.colab.kernel.invokeFunction(\n",
              "            'suggestCharts', [key], {});\n",
              "      } catch (error) {\n",
              "        console.error('Error during call to suggestCharts:', error);\n",
              "      }\n",
              "      quickchartButtonEl.classList.remove('colab-df-spinner');\n",
              "      quickchartButtonEl.classList.add('colab-df-quickchart-complete');\n",
              "    }\n",
              "    (() => {\n",
              "      let quickchartButtonEl =\n",
              "        document.querySelector('#df-2f8d5fdc-5023-4b38-9790-20e8c52d8da9 button');\n",
              "      quickchartButtonEl.style.display =\n",
              "        google.colab.kernel.accessAllowed ? 'block' : 'none';\n",
              "    })();\n",
              "  </script>\n",
              "</div>\n",
              "    </div>\n",
              "  </div>\n"
            ]
          },
          "metadata": {},
          "execution_count": 5
        }
      ],
      "source": [
        "df.tail()"
      ]
    },
    {
      "cell_type": "markdown",
      "metadata": {
        "id": "r1YnwOXUNR7i"
      },
      "source": [
        "# 데이터 전처리\n",
        "모든 딥러닝 모델들이 수학에 근간하듯이, LSTM 역시 수학을 기반으로한 모델이므로, 입력값을 수치값으로 변경해주어야 합니다."
      ]
    },
    {
      "cell_type": "code",
      "execution_count": 6,
      "metadata": {
        "id": "Ri6tGxioNR7j"
      },
      "outputs": [],
      "source": [
        "def get_vocab_size(df):\n",
        "    \"\"\"\n",
        "    데이터에 사용된 중복 없는 전체 단어 갯수를 리턴합니다.\n",
        "    \"\"\"\n",
        "    results = set()\n",
        "    df['paragraph'].str.lower().str.split().apply(results.update)\n",
        "    return len(results)"
      ]
    },
    {
      "cell_type": "code",
      "execution_count": 8,
      "metadata": {
        "id": "jWZ_CKGTNR7j",
        "outputId": "14be4f5a-fdfb-4cd2-db3d-d802ff9e83ce",
        "colab": {
          "base_uri": "https://localhost:8080/"
        }
      },
      "outputs": [
        {
          "output_type": "stream",
          "name": "stdout",
          "text": [
            "536\n"
          ]
        }
      ],
      "source": [
        "# 전체 단어 갯수\n",
        "vocab_size = get_vocab_size(df)\n",
        "print(vocab_size)"
      ]
    },
    {
      "cell_type": "code",
      "execution_count": 9,
      "metadata": {
        "id": "2BnXh_VkNR7j"
      },
      "outputs": [],
      "source": [
        "# 단어를 숫자로 인코딩합니다.\n",
        "paragraphs = df['paragraph'].tolist()\n",
        "encoded_paragraphs = [one_hot(paragraph, vocab_size) for paragraph in paragraphs]"
      ]
    },
    {
      "cell_type": "code",
      "execution_count": 10,
      "metadata": {
        "id": "ypxdpR-PNR7j",
        "outputId": "3a7e44fe-6269-4758-dad6-fc8f19dde1be",
        "colab": {
          "base_uri": "https://localhost:8080/"
        }
      },
      "outputs": [
        {
          "output_type": "stream",
          "name": "stdout",
          "text": [
            "91\n"
          ]
        }
      ],
      "source": [
        "def get_max_length(df):\n",
        "    \"\"\"\n",
        "    데이터에서 가장 긴 문장의 단어 갯수를 리턴합니다.\n",
        "    \"\"\"\n",
        "    max_length = 0\n",
        "    for row in df['paragraph']:\n",
        "        if len(row.split(\" \")) > max_length:\n",
        "            max_length = len(row.split(\" \"))\n",
        "    return max_length\n",
        "\n",
        "max_length = get_max_length(df)\n",
        "print (max_length)"
      ]
    },
    {
      "cell_type": "code",
      "execution_count": 11,
      "metadata": {
        "id": "eCCYrwCkNR7j"
      },
      "outputs": [],
      "source": [
        "# 문장마다 단어갯수가 다르므로, 제로 패딩을 넣어줘서 문장의 길이를 동일하게 만듭니다.\n",
        "padded_paragraphs_encoding = pad_sequences(encoded_paragraphs, maxlen=max_length, padding='post')"
      ]
    },
    {
      "cell_type": "code",
      "execution_count": 12,
      "metadata": {
        "id": "uui0fin0NR7j",
        "outputId": "418e23ce-244b-4c9c-a758-75313a579145",
        "colab": {
          "base_uri": "https://localhost:8080/"
        }
      },
      "outputs": [
        {
          "output_type": "execute_result",
          "data": {
            "text/plain": [
              "array([[368, 132, 516, ...,   0,   0,   0],\n",
              "       [176, 478, 228, ...,   0,   0,   0],\n",
              "       [205, 177, 129, ...,   0,   0,   0],\n",
              "       ...,\n",
              "       [368, 136,  79, ...,   0,   0,   0],\n",
              "       [180, 147, 486, ...,   0,   0,   0],\n",
              "       [332, 466, 147, ...,   0,   0,   0]], dtype=int32)"
            ]
          },
          "metadata": {},
          "execution_count": 12
        }
      ],
      "source": [
        "padded_paragraphs_encoding"
      ]
    },
    {
      "cell_type": "code",
      "execution_count": 13,
      "metadata": {
        "id": "Pfta-UauNR7j"
      },
      "outputs": [],
      "source": [
        "categories = df['category'].tolist()\n",
        "def category_encode(category):\n",
        "    \"\"\"\n",
        "    분류 항목(food, sports) 역시 수치로 변경해야합니다. 분류 항목은 one hot encoding으로 변경합니다.\n",
        "    \"\"\"\n",
        "    if category == 'food':\n",
        "        return [1,0]\n",
        "    else:\n",
        "        return [0,1]\n",
        "encoded_category = [category_encode(category) for category in categories]"
      ]
    },
    {
      "cell_type": "code",
      "execution_count": 14,
      "metadata": {
        "id": "8ALWKY81NR7j",
        "outputId": "62baf202-b65e-4fa1-a1f1-e6058a2b98a0",
        "colab": {
          "base_uri": "https://localhost:8080/"
        }
      },
      "outputs": [
        {
          "output_type": "stream",
          "name": "stdout",
          "text": [
            "[368, 132, 516, 393, 91, 132, 39, 132, 464, 386, 147, 354, 180, 308, 478, 228, 387, 401, 171, 108, 309, 343, 345, 437, 384, 170, 161, 466, 401, 249, 357, 79, 436, 60, 210, 513, 438, 290, 84, 201, 28, 161, 431, 453, 107, 59, 409, 505, 522, 147, 477, 401, 115]\n",
            "[332, 466, 147, 243, 28, 54, 497, 341, 446, 256, 460, 114, 79, 64, 393, 147, 363, 472, 39, 290, 18, 490, 302, 445, 220, 401, 147, 92, 445, 530, 442, 224, 113, 318, 398, 341, 168, 349, 268, 294, 496, 210, 209, 479, 170, 485, 342, 469, 401, 461, 147, 32, 158, 180, 308, 436, 497, 74, 421, 336, 206, 15, 119, 511, 437, 157, 423, 341, 79, 210, 416, 285, 384]\n"
          ]
        }
      ],
      "source": [
        "# 원 핫 인코딩 예시\n",
        "print(encoded_paragraphs[0])\n",
        "print(encoded_paragraphs[19])"
      ]
    },
    {
      "cell_type": "markdown",
      "metadata": {
        "id": "yZ-BAsLrNR7j"
      },
      "source": [
        "# 텐서플로우로 지문을 읽고 주제를 분류하는 모델 구현하기"
      ]
    },
    {
      "cell_type": "markdown",
      "metadata": {
        "id": "DjGthMEANR7j"
      },
      "source": [
        "아래 다이어그램 그대로 텐서플로우 모델을 구현해보도록 하겠습니다."
      ]
    },
    {
      "cell_type": "code",
      "execution_count": 15,
      "metadata": {
        "id": "YRFO-TH_NR7k",
        "outputId": "de5ab32a-e71e-47d3-d5ac-8f71d5d1c844",
        "colab": {
          "base_uri": "https://localhost:8080/",
          "height": 270
        }
      },
      "outputs": [
        {
          "output_type": "execute_result",
          "data": {
            "text/html": [
              "<img src=\"https://raw.githubusercontent.com/captainchargers/deeplearning/master/img/lstm_model_overview.png\" width=\"500\" height=\"250\"/>"
            ],
            "text/plain": [
              "<IPython.core.display.Image object>"
            ]
          },
          "metadata": {},
          "execution_count": 15
        }
      ],
      "source": [
        "Image(url= \"https://raw.githubusercontent.com/captainchargers/deeplearning/master/img/lstm_model_overview.png\", width=500, height=250)"
      ]
    },
    {
      "cell_type": "code",
      "execution_count": 22,
      "metadata": {
        "id": "s6F0qIpcNR7k"
      },
      "outputs": [],
      "source": [
        "model = Sequential()\n",
        "model.add(Embedding(vocab_size, 5, input_length=max_length))\n",
        "model.add(LSTM(64))\n",
        "# model.add(Dense(32, activation='relu'))\n",
        "model.add(Dense(10, activation='relu'))\n",
        "model.add(Dense(2, activation='softmax'))"
      ]
    },
    {
      "cell_type": "code",
      "execution_count": 23,
      "metadata": {
        "id": "vZr5e1xfNR7k"
      },
      "outputs": [],
      "source": [
        "model.compile(loss='categorical_crossentropy',\n",
        "              optimizer='adam',\n",
        "              metrics=['accuracy'])"
      ]
    },
    {
      "cell_type": "code",
      "execution_count": 24,
      "metadata": {
        "id": "0KSLTIyaNR7k"
      },
      "outputs": [],
      "source": [
        "train_X = np.array(padded_paragraphs_encoding)\n",
        "train_Y = np.array(encoded_category)"
      ]
    },
    {
      "cell_type": "code",
      "execution_count": 25,
      "metadata": {
        "id": "GhFJ9MB3NR7k",
        "outputId": "f973412c-3e09-4986-d4da-80705e596523",
        "colab": {
          "base_uri": "https://localhost:8080/"
        }
      },
      "outputs": [
        {
          "output_type": "stream",
          "name": "stdout",
          "text": [
            "Train...\n",
            "Epoch 1/50\n",
            "2/2 [==============================] - 3s 35ms/step - loss: 0.6949 - accuracy: 0.5000\n",
            "Epoch 2/50\n",
            "2/2 [==============================] - 0s 30ms/step - loss: 0.6936 - accuracy: 0.5000\n",
            "Epoch 3/50\n",
            "2/2 [==============================] - 0s 35ms/step - loss: 0.6937 - accuracy: 0.5000\n",
            "Epoch 4/50\n",
            "2/2 [==============================] - 0s 34ms/step - loss: 0.6935 - accuracy: 0.5000\n",
            "Epoch 5/50\n",
            "2/2 [==============================] - 0s 44ms/step - loss: 0.6934 - accuracy: 0.5000\n",
            "Epoch 6/50\n",
            "2/2 [==============================] - 0s 33ms/step - loss: 0.6932 - accuracy: 0.5000\n",
            "Epoch 7/50\n",
            "2/2 [==============================] - 0s 31ms/step - loss: 0.6931 - accuracy: 0.5000\n",
            "Epoch 8/50\n",
            "2/2 [==============================] - 0s 32ms/step - loss: 0.6930 - accuracy: 0.5000\n",
            "Epoch 9/50\n",
            "2/2 [==============================] - 0s 38ms/step - loss: 0.6929 - accuracy: 0.5000\n",
            "Epoch 10/50\n",
            "2/2 [==============================] - 0s 32ms/step - loss: 0.6930 - accuracy: 0.5000\n",
            "Epoch 11/50\n",
            "2/2 [==============================] - 0s 31ms/step - loss: 0.6928 - accuracy: 0.5000\n",
            "Epoch 12/50\n",
            "2/2 [==============================] - 0s 32ms/step - loss: 0.6926 - accuracy: 0.5000\n",
            "Epoch 13/50\n",
            "2/2 [==============================] - 0s 32ms/step - loss: 0.6922 - accuracy: 0.5000\n",
            "Epoch 14/50\n",
            "2/2 [==============================] - 0s 31ms/step - loss: 0.6922 - accuracy: 0.4000\n",
            "Epoch 15/50\n",
            "2/2 [==============================] - 0s 31ms/step - loss: 0.6918 - accuracy: 0.6000\n",
            "Epoch 16/50\n",
            "2/2 [==============================] - 0s 32ms/step - loss: 0.6920 - accuracy: 0.6000\n",
            "Epoch 17/50\n",
            "2/2 [==============================] - 0s 31ms/step - loss: 0.6909 - accuracy: 0.6000\n",
            "Epoch 18/50\n",
            "2/2 [==============================] - 0s 31ms/step - loss: 0.6908 - accuracy: 0.6000\n",
            "Epoch 19/50\n",
            "2/2 [==============================] - 0s 31ms/step - loss: 0.6900 - accuracy: 0.6000\n",
            "Epoch 20/50\n",
            "2/2 [==============================] - 0s 39ms/step - loss: 0.6888 - accuracy: 0.6000\n",
            "Epoch 21/50\n",
            "2/2 [==============================] - 0s 33ms/step - loss: 0.6860 - accuracy: 0.6500\n",
            "Epoch 22/50\n",
            "2/2 [==============================] - 0s 31ms/step - loss: 0.6808 - accuracy: 0.7500\n",
            "Epoch 23/50\n",
            "2/2 [==============================] - 0s 31ms/step - loss: 0.6686 - accuracy: 0.5000\n",
            "Epoch 24/50\n",
            "2/2 [==============================] - 0s 37ms/step - loss: 0.6296 - accuracy: 0.5000\n",
            "Epoch 25/50\n",
            "2/2 [==============================] - 0s 31ms/step - loss: 0.6109 - accuracy: 0.6000\n",
            "Epoch 26/50\n",
            "2/2 [==============================] - 0s 31ms/step - loss: 0.5437 - accuracy: 0.8000\n",
            "Epoch 27/50\n",
            "2/2 [==============================] - 0s 31ms/step - loss: 0.6173 - accuracy: 0.8000\n",
            "Epoch 28/50\n",
            "2/2 [==============================] - 0s 30ms/step - loss: 0.5498 - accuracy: 0.8500\n",
            "Epoch 29/50\n",
            "2/2 [==============================] - 0s 31ms/step - loss: 0.6176 - accuracy: 0.7000\n",
            "Epoch 30/50\n",
            "2/2 [==============================] - 0s 35ms/step - loss: 0.6668 - accuracy: 0.6000\n",
            "Epoch 31/50\n",
            "2/2 [==============================] - 0s 30ms/step - loss: 0.6703 - accuracy: 0.6000\n",
            "Epoch 32/50\n",
            "2/2 [==============================] - 0s 35ms/step - loss: 0.6729 - accuracy: 0.6000\n",
            "Epoch 33/50\n",
            "2/2 [==============================] - 0s 31ms/step - loss: 0.6726 - accuracy: 0.6000\n",
            "Epoch 34/50\n",
            "2/2 [==============================] - 0s 52ms/step - loss: 0.6711 - accuracy: 0.6000\n",
            "Epoch 35/50\n",
            "2/2 [==============================] - 0s 48ms/step - loss: 0.6684 - accuracy: 0.6000\n",
            "Epoch 36/50\n",
            "2/2 [==============================] - 0s 50ms/step - loss: 0.6647 - accuracy: 0.6000\n",
            "Epoch 37/50\n",
            "2/2 [==============================] - 0s 64ms/step - loss: 0.6595 - accuracy: 0.6000\n",
            "Epoch 38/50\n",
            "2/2 [==============================] - 0s 50ms/step - loss: 0.6512 - accuracy: 0.6000\n",
            "Epoch 39/50\n",
            "2/2 [==============================] - 0s 51ms/step - loss: 0.6360 - accuracy: 0.6000\n",
            "Epoch 40/50\n",
            "2/2 [==============================] - 0s 46ms/step - loss: 0.6028 - accuracy: 0.6500\n",
            "Epoch 41/50\n",
            "2/2 [==============================] - 0s 50ms/step - loss: 0.4884 - accuracy: 0.8500\n",
            "Epoch 42/50\n",
            "2/2 [==============================] - 0s 49ms/step - loss: 0.3763 - accuracy: 0.8500\n",
            "Epoch 43/50\n",
            "2/2 [==============================] - 0s 48ms/step - loss: 0.2015 - accuracy: 1.0000\n",
            "Epoch 44/50\n",
            "2/2 [==============================] - 0s 49ms/step - loss: 0.1649 - accuracy: 1.0000\n",
            "Epoch 45/50\n",
            "2/2 [==============================] - 0s 49ms/step - loss: 0.2919 - accuracy: 0.9500\n",
            "Epoch 46/50\n",
            "2/2 [==============================] - 0s 60ms/step - loss: 0.1929 - accuracy: 0.9500\n",
            "Epoch 47/50\n",
            "2/2 [==============================] - 0s 51ms/step - loss: 0.2799 - accuracy: 0.9000\n",
            "Epoch 48/50\n",
            "2/2 [==============================] - 0s 51ms/step - loss: 0.5981 - accuracy: 0.7500\n",
            "Epoch 49/50\n",
            "2/2 [==============================] - 0s 47ms/step - loss: 0.5831 - accuracy: 0.7500\n",
            "Epoch 50/50\n",
            "2/2 [==============================] - 0s 50ms/step - loss: 0.5475 - accuracy: 0.7500\n"
          ]
        },
        {
          "output_type": "execute_result",
          "data": {
            "text/plain": [
              "<keras.src.callbacks.History at 0x7eb4ca87d300>"
            ]
          },
          "metadata": {},
          "execution_count": 25
        }
      ],
      "source": [
        "print('Train...')\n",
        "model.fit(train_X, train_Y,batch_size=10,epochs=50)"
      ]
    },
    {
      "cell_type": "code",
      "execution_count": 26,
      "metadata": {
        "id": "2tzqctPuNR7k",
        "outputId": "7f0308e3-065d-4007-908f-d1c2a3d1f547",
        "colab": {
          "base_uri": "https://localhost:8080/"
        }
      },
      "outputs": [
        {
          "output_type": "stream",
          "name": "stdout",
          "text": [
            "1/1 - 1s - loss: 0.2753 - accuracy: 0.9000 - 772ms/epoch - 772ms/step\n",
            "Test score: 0.27531319856643677\n",
            "Test accuracy: 0.8999999761581421\n"
          ]
        }
      ],
      "source": [
        "score, acc = model.evaluate(train_X, train_Y, verbose=2)\n",
        "print('Test score:', score)\n",
        "print('Test accuracy:', acc)"
      ]
    },
    {
      "cell_type": "markdown",
      "metadata": {
        "id": "3OKvvWlMNR7k"
      },
      "source": [
        "모든 지문들이 충분히 학습되어, 학습 정확도가 100%인 것을 확인할 수 있습니다."
      ]
    },
    {
      "cell_type": "markdown",
      "metadata": {
        "id": "Hoqqo0nbNR7k"
      },
      "source": [
        "# 모델 요약\n",
        "모델에 대한 간략한 요약은 다음과 같습니다.  \n",
        "[문맥 벡터 생성]  \n",
        "입력값은 단어들의 인덱스이며, 그 길이는 항상 91입니다.  \n",
        "임베딩 레이어는 인덱스를 받아, 5차원 벡터의 임베딩을 출력합니다.  \n",
        "LSTM 셀은 64차원 벡터의 상태값을 출력합니다.  \n",
        "\n",
        "[문맥 벡터를 사용하여 지문의 주제 분류하기]  \n",
        "주제 분류는 두개의 dense layer를 사용합니다.  \n",
        "첫번째 dense layer는 32개의 노드를 가지고 있습니다.  \n",
        "두번째 dense layer는 2개의 노드를 가지고 있으며, 이 2개의 노드는 소프트맥스의 입력값으로 들어갑니다.  \n",
        "소프트맥스는 각 분류값에 해당할 확률을 출력합니다."
      ]
    },
    {
      "cell_type": "code",
      "execution_count": 27,
      "metadata": {
        "id": "AlpiDkY_NR7k",
        "outputId": "13c59fa0-e0f9-4c82-a71e-4a332156a37a",
        "colab": {
          "base_uri": "https://localhost:8080/"
        }
      },
      "outputs": [
        {
          "output_type": "stream",
          "name": "stdout",
          "text": [
            "Model: \"sequential_1\"\n",
            "_________________________________________________________________\n",
            " Layer (type)                Output Shape              Param #   \n",
            "=================================================================\n",
            " embedding_1 (Embedding)     (None, 91, 5)             2680      \n",
            "                                                                 \n",
            " lstm_1 (LSTM)               (None, 64)                17920     \n",
            "                                                                 \n",
            " dense_2 (Dense)             (None, 10)                650       \n",
            "                                                                 \n",
            " dense_3 (Dense)             (None, 2)                 22        \n",
            "                                                                 \n",
            "=================================================================\n",
            "Total params: 21272 (83.09 KB)\n",
            "Trainable params: 21272 (83.09 KB)\n",
            "Non-trainable params: 0 (0.00 Byte)\n",
            "_________________________________________________________________\n"
          ]
        }
      ],
      "source": [
        "model.summary()"
      ]
    },
    {
      "cell_type": "markdown",
      "metadata": {
        "id": "jP5LyiAmNR7k"
      },
      "source": [
        "# 참고자료\n",
        "arXiv:1708.00107 [cs.CL]  [https://arxiv.org/abs/1708.00107]  \n",
        "Learned in Translation: Contextualized Word Vectors  \n",
        "Bryan McCann, James Bradbury, Caiming Xiong, Richard Socher"
      ]
    },
    {
      "cell_type": "code",
      "source": [],
      "metadata": {
        "id": "KrCjcDXVOMZ3"
      },
      "execution_count": null,
      "outputs": []
    }
  ],
  "metadata": {
    "kernelspec": {
      "display_name": "Python 3",
      "language": "python",
      "name": "python3"
    },
    "language_info": {
      "codemirror_mode": {
        "name": "ipython",
        "version": 3
      },
      "file_extension": ".py",
      "mimetype": "text/x-python",
      "name": "python",
      "nbconvert_exporter": "python",
      "pygments_lexer": "ipython3",
      "version": "3.6.4"
    },
    "colab": {
      "provenance": []
    }
  },
  "nbformat": 4,
  "nbformat_minor": 0
}